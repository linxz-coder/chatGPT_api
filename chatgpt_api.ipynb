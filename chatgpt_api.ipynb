{
 "cells": [
  {
   "cell_type": "markdown",
   "id": "e6104eef",
   "metadata": {},
   "source": [
    "# 1.安装openai"
   ]
  },
  {
   "cell_type": "code",
   "execution_count": 2,
   "id": "e39bf958",
   "metadata": {},
   "outputs": [
    {
     "name": "stdout",
     "output_type": "stream",
     "text": [
      "Collecting openai\n",
      "  Downloading openai-0.27.4-py3-none-any.whl (70 kB)\n",
      "\u001b[2K     \u001b[90m━━━━━━━━━━━━━━━━━━━━━━━━━━━━━━━━━━━━━━━━\u001b[0m \u001b[32m70.3/70.3 kB\u001b[0m \u001b[31m92.0 kB/s\u001b[0m eta \u001b[36m0:00:00\u001b[0ma \u001b[36m0:00:01\u001b[0m\n",
      "\u001b[?25hRequirement already satisfied: tqdm in /Users/lxz/opt/anaconda3/lib/python3.8/site-packages (from openai) (4.64.1)\n",
      "Requirement already satisfied: aiohttp in /Users/lxz/opt/anaconda3/lib/python3.8/site-packages (from openai) (3.8.1)\n",
      "Requirement already satisfied: requests>=2.20 in /Users/lxz/opt/anaconda3/lib/python3.8/site-packages (from openai) (2.28.1)\n",
      "Requirement already satisfied: charset-normalizer<3,>=2 in /Users/lxz/opt/anaconda3/lib/python3.8/site-packages (from requests>=2.20->openai) (2.0.4)\n",
      "Requirement already satisfied: certifi>=2017.4.17 in /Users/lxz/opt/anaconda3/lib/python3.8/site-packages (from requests>=2.20->openai) (2022.9.24)\n",
      "Requirement already satisfied: urllib3<1.27,>=1.21.1 in /Users/lxz/opt/anaconda3/lib/python3.8/site-packages (from requests>=2.20->openai) (1.26.12)\n",
      "Requirement already satisfied: idna<4,>=2.5 in /Users/lxz/opt/anaconda3/lib/python3.8/site-packages (from requests>=2.20->openai) (3.4)\n",
      "Requirement already satisfied: async-timeout<5.0,>=4.0.0a3 in /Users/lxz/opt/anaconda3/lib/python3.8/site-packages (from aiohttp->openai) (4.0.2)\n",
      "Requirement already satisfied: yarl<2.0,>=1.0 in /Users/lxz/opt/anaconda3/lib/python3.8/site-packages (from aiohttp->openai) (1.8.1)\n",
      "Requirement already satisfied: multidict<7.0,>=4.5 in /Users/lxz/opt/anaconda3/lib/python3.8/site-packages (from aiohttp->openai) (6.0.2)\n",
      "Requirement already satisfied: attrs>=17.3.0 in /Users/lxz/opt/anaconda3/lib/python3.8/site-packages (from aiohttp->openai) (21.4.0)\n",
      "Requirement already satisfied: aiosignal>=1.1.2 in /Users/lxz/opt/anaconda3/lib/python3.8/site-packages (from aiohttp->openai) (1.2.0)\n",
      "Requirement already satisfied: frozenlist>=1.1.1 in /Users/lxz/opt/anaconda3/lib/python3.8/site-packages (from aiohttp->openai) (1.2.0)\n",
      "Installing collected packages: openai\n",
      "Successfully installed openai-0.27.4\n",
      "Note: you may need to restart the kernel to use updated packages.\n"
     ]
    }
   ],
   "source": [
    "%pip install --upgrade openai"
   ]
  },
  {
   "cell_type": "code",
   "execution_count": 22,
   "id": "a06182ed",
   "metadata": {},
   "outputs": [],
   "source": [
    "import openai"
   ]
  },
  {
   "cell_type": "code",
   "execution_count": 24,
   "id": "08747f7e",
   "metadata": {},
   "outputs": [],
   "source": [
    "openai.api_key = '' #在’‘里面填入你的api_key，可以在这里获得：https://platform.openai.com/account/api-keys"
   ]
  },
  {
   "cell_type": "markdown",
   "id": "1d210f9e",
   "metadata": {},
   "source": [
    "# 2.请求open回应"
   ]
  },
  {
   "cell_type": "code",
   "execution_count": 34,
   "id": "75cfaba3",
   "metadata": {},
   "outputs": [
    {
     "name": "stdout",
     "output_type": "stream",
     "text": [
      "# 世界十大名校\n",
      "\n",
      "## 1. 哈佛大学\n",
      "哈佛大学是全球最著名的私立研究型大学之一，拥有世界一流的师资力量和教学设施，以其卓越的教育质量和学术研究成果而闻名于世。\n",
      "\n",
      "## 2. 牛津大学\n",
      "牛津大学是英国最古老、最著名的大学之一，拥有世界一流的教学和研究设施，以其优秀的人文、社会科学和自然科学教育而著称。\n",
      "\n",
      "## 3. 剑桥大学\n",
      "剑桥大学是英国最古老、最著名的大学之一，拥有世界一流的教学和研究设施，以其优秀的人文、社会科学和自然科学教育而著称。\n",
      "\n",
      "## 4. 麻省理工学院\n",
      "麻省理工学院是全球最著名的科技类大学之一，以其卓越的科研实力和创新精神而著称于世。\n",
      "\n",
      "## 5. 斯坦福大学\n",
      "斯坦福大学是全球最著名的私立研究型大学之一，以其卓越的教育质量和科研实力而著名于世。\n",
      "\n",
      "## 6. 加州理工学院\n",
      "加州理工学院是全球最著名的科技类大学之一，以其卓越的科研实力和创新精神而著名于世。\n",
      "\n",
      "## 7. 哥伦比亚大学\n",
      "哥伦比亚大学是全球最著名的私立研究型大学之一，以其卓越的教育质量和人文社会科学研究成果而著名于世。\n",
      "\n",
      "## 8. 芝加哥大学\n",
      "芝加哥大学是全球最著名的私立研究型大学之一，以其卓越的教育质量和社会科学研究成果而著名于世。\n",
      "\n",
      "## 9. 清华大学\n",
      "清华大学是中国最著名的综合性大学之一，以其卓越的教育质量和科研实力而著名于世。\n",
      "\n",
      "## 10. 北京大学\n",
      "北京大学是中国最著名的综合性大学之一，以其卓越的教育质量和人文社会科学研究成果而著名于世。\n"
     ]
    }
   ],
   "source": [
    "MODEL = \"gpt-3.5-turbo\"\n",
    "response = openai.ChatCompletion.create(\n",
    "    model=MODEL,\n",
    "    messages=[\n",
    "        {\"role\": \"system\", \"content\": \"你是一个专业的问答机器人\"}, \n",
    "        {\"role\": \"user\", \"content\": \"请列出世界十大名校，用markdown格式，一级标题是学校名称，正文是学校特点\"},\n",
    "    ],\n",
    "    temperature=0,\n",
    ")\n",
    "\n",
    "print(response['choices'][0]['message']['content']) #稍等片刻，答案会在空白处出现"
   ]
  },
  {
   "cell_type": "markdown",
   "id": "d53933f9",
   "metadata": {},
   "source": [
    "## **说明：你只需要一直点击菜单上的”run“按钮就可以运行。**"
   ]
  }
 ],
 "metadata": {
  "kernelspec": {
   "display_name": "Python 3 (ipykernel)",
   "language": "python",
   "name": "python3"
  },
  "language_info": {
   "codemirror_mode": {
    "name": "ipython",
    "version": 3
   },
   "file_extension": ".py",
   "mimetype": "text/x-python",
   "name": "python",
   "nbconvert_exporter": "python",
   "pygments_lexer": "ipython3",
   "version": "3.11.3"
  }
 },
 "nbformat": 4,
 "nbformat_minor": 5
}
